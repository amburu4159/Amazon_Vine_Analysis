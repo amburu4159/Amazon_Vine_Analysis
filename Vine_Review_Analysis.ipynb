{
  "nbformat": 4,
  "nbformat_minor": 0,
  "metadata": {
    "colab": {
      "name": "Vine_Review_Analysis",
      "provenance": [],
      "authorship_tag": "ABX9TyNSkEsHlAiAhq39YYcXqyCQ",
      "include_colab_link": true
    },
    "kernelspec": {
      "name": "python3",
      "display_name": "Python 3"
    },
    "language_info": {
      "name": "python"
    }
  },
  "cells": [
    {
      "cell_type": "markdown",
      "metadata": {
        "id": "view-in-github",
        "colab_type": "text"
      },
      "source": [
        "<a href=\"https://colab.research.google.com/github/amburu4159/Amazon_Vine_Analysis/blob/main/Vine_Review_Analysis.ipynb\" target=\"_parent\"><img src=\"https://colab.research.google.com/assets/colab-badge.svg\" alt=\"Open In Colab\"/></a>"
      ]
    },
    {
      "cell_type": "code",
      "metadata": {
        "colab": {
          "base_uri": "https://localhost:8080/"
        },
        "id": "0zNOIxdgbRjv",
        "outputId": "6f75761c-74dc-4f94-ab80-efce6110262b"
      },
      "source": [
        "import os\n",
        "# Find the latest version of spark 3.0  from http://www-us.apache.org/dist/spark/ and enter as the spark version\n",
        "# For example:\n",
        "# spark_version = 'spark-3.0.2'\n",
        "spark_version = 'spark-3.1.2'\n",
        "os.environ['SPARK_VERSION']=spark_version\n",
        "# Install Spark and Java\n",
        "!apt-get update\n",
        "!apt-get install openjdk-11-jdk-headless -qq > /dev/null\n",
        "#!wget -q http://www-us.apache.org/dist/spark/$SPARK_VERSION/$SPARK_VERSION-bin-hadoop3.2.tgz\n",
        "!wget -q https://downloads.apache.org/spark/$SPARK_VERSION/$SPARK_VERSION-bin-hadoop3.2.tgz\n",
        "!tar xf $SPARK_VERSION-bin-hadoop3.2.tgz\n",
        "!pip install -q findspark\n",
        "# Set Environment Variables\n",
        "os.environ[\"JAVA_HOME\"] = \"/usr/lib/jvm/java-11-openjdk-amd64\"\n",
        "os.environ[\"SPARK_HOME\"] = f\"/content/{spark_version}-bin-hadoop3.2\"\n",
        "# Start a SparkSession\n",
        "import findspark\n",
        "findspark.init()"
      ],
      "execution_count": 1,
      "outputs": [
        {
          "output_type": "stream",
          "text": [
            "\r0% [Working]\r            \rGet:1 http://security.ubuntu.com/ubuntu bionic-security InRelease [88.7 kB]\n",
            "\r0% [Connecting to archive.ubuntu.com (91.189.88.142)] [1 InRelease 14.2 kB/88.7\r0% [Waiting for headers] [Waiting for headers] [Waiting for headers] [Waiting f\r0% [1 InRelease gpgv 88.7 kB] [Waiting for headers] [Waiting for headers] [Wait\r                                                                               \rIgn:2 https://developer.download.nvidia.com/compute/cuda/repos/ubuntu1804/x86_64  InRelease\n",
            "\r0% [1 InRelease gpgv 88.7 kB] [Waiting for headers] [Waiting for headers] [Wait\r                                                                               \rGet:3 https://cloud.r-project.org/bin/linux/ubuntu bionic-cran40/ InRelease [3,626 B]\n",
            "\r0% [1 InRelease gpgv 88.7 kB] [Waiting for headers] [Waiting for headers] [Wait\r                                                                               \rGet:4 http://ppa.launchpad.net/c2d4u.team/c2d4u4.0+/ubuntu bionic InRelease [15.9 kB]\n",
            "\r0% [1 InRelease gpgv 88.7 kB] [Waiting for headers] [4 InRelease 2,572 B/15.9 k\r                                                                               \rIgn:5 https://developer.download.nvidia.com/compute/machine-learning/repos/ubuntu1804/x86_64  InRelease\n",
            "\r0% [1 InRelease gpgv 88.7 kB] [Waiting for headers] [4 InRelease 5,468 B/15.9 k\r                                                                               \rHit:6 http://archive.ubuntu.com/ubuntu bionic InRelease\n",
            "\r0% [1 InRelease gpgv 88.7 kB] [4 InRelease 8,364 B/15.9 kB 53%] [Waiting for he\r                                                                               \rHit:7 https://developer.download.nvidia.com/compute/cuda/repos/ubuntu1804/x86_64  Release\n",
            "Hit:8 https://developer.download.nvidia.com/compute/machine-learning/repos/ubuntu1804/x86_64  Release\n",
            "Get:9 http://archive.ubuntu.com/ubuntu bionic-updates InRelease [88.7 kB]\n",
            "Get:10 http://security.ubuntu.com/ubuntu bionic-security/universe amd64 Packages [1,424 kB]\n",
            "Hit:11 http://ppa.launchpad.net/cran/libgit2/ubuntu bionic InRelease\n",
            "Get:12 http://security.ubuntu.com/ubuntu bionic-security/restricted amd64 Packages [543 kB]\n",
            "Get:13 http://security.ubuntu.com/ubuntu bionic-security/main amd64 Packages [2,294 kB]\n",
            "Get:14 http://archive.ubuntu.com/ubuntu bionic-backports InRelease [74.6 kB]\n",
            "Hit:15 http://ppa.launchpad.net/deadsnakes/ppa/ubuntu bionic InRelease\n",
            "Hit:16 http://ppa.launchpad.net/graphics-drivers/ppa/ubuntu bionic InRelease\n",
            "Get:19 http://ppa.launchpad.net/c2d4u.team/c2d4u4.0+/ubuntu bionic/main Sources [1,792 kB]\n",
            "Get:20 http://archive.ubuntu.com/ubuntu bionic-updates/restricted amd64 Packages [575 kB]\n",
            "Get:21 http://ppa.launchpad.net/c2d4u.team/c2d4u4.0+/ubuntu bionic/main amd64 Packages [917 kB]\n",
            "Get:22 http://archive.ubuntu.com/ubuntu bionic-updates/main amd64 Packages [2,730 kB]\n",
            "Get:23 http://archive.ubuntu.com/ubuntu bionic-updates/multiverse amd64 Packages [34.4 kB]\n",
            "Get:24 http://archive.ubuntu.com/ubuntu bionic-updates/universe amd64 Packages [2,199 kB]\n",
            "Fetched 12.8 MB in 5s (2,747 kB/s)\n",
            "Reading package lists... Done\n"
          ],
          "name": "stdout"
        }
      ]
    },
    {
      "cell_type": "code",
      "metadata": {
        "id": "ayo9R7Np1llm"
      },
      "source": [
        "from pyspark.sql import SparkSession\n",
        "spark = SparkSession.builder.appName(\"BigData-Challenge\").getOrCreate()"
      ],
      "execution_count": 2,
      "outputs": []
    },
    {
      "cell_type": "code",
      "metadata": {
        "colab": {
          "base_uri": "https://localhost:8080/"
        },
        "id": "ADlyWs8M1qmW",
        "outputId": "19f40210-7f24-409e-900d-ab0406bd3fe2"
      },
      "source": [
        "from pyspark import SparkFiles\n",
        "url = \"https://s3.amazonaws.com/amazon-reviews-pds/tsv/amazon_reviews_us_Personal_Care_Appliances_v1_00.tsv.gz\"\n",
        "spark.sparkContext.addFile(url)\n",
        "df = spark.read.option(\"encoding\", \"UTF-8\").csv(SparkFiles.get(\"amazon_reviews_us_Personal_Care_Appliances_v1_00.tsv.gz\"), sep=\"\\t\", header=True, inferSchema=True)\n",
        "df.show()"
      ],
      "execution_count": 5,
      "outputs": [
        {
          "output_type": "stream",
          "text": [
            "+-----------+-----------+--------------+----------+--------------+--------------------+--------------------+-----------+-------------+-----------+----+-----------------+--------------------+--------------------+-----------+\n",
            "|marketplace|customer_id|     review_id|product_id|product_parent|       product_title|    product_category|star_rating|helpful_votes|total_votes|vine|verified_purchase|     review_headline|         review_body|review_date|\n",
            "+-----------+-----------+--------------+----------+--------------+--------------------+--------------------+-----------+-------------+-----------+----+-----------------+--------------------+--------------------+-----------+\n",
            "|         US|   32114233|R1QX6706ZWJ1P5|B00OYRW4UE|     223980852|Elite Sportz Exer...|Personal_Care_App...|          5|            0|          0|   N|                Y|Good quality. Shi...|Exactly as descri...| 2015-08-31|\n",
            "|         US|   18125776|R3QWMLJHIW6P37|B0000537JQ|     819771537|     Ezy Dose Weekly|Personal_Care_App...|          5|            0|          0|   N|                Y|          Five Stars|         It is great| 2015-08-31|\n",
            "|         US|   19917519|R14Z1VR1N0Z9G6|B00HXXO332|     849307176|Pulse Oximeter, B...|Personal_Care_App...|          5|            1|          1|   N|                Y|It's really nice ...|It's really nice ...| 2015-08-31|\n",
            "|         US|   18277171| R25ZRJL0GH0U0|B00EOB0JA2|     700864740|SE Tools Tool Kit...|Personal_Care_App...|          2|            0|          0|   N|                Y|           Two Stars|The kit works fin...| 2015-08-31|\n",
            "|         US|    2593270|R3837KYH7AZNIY|B00OC2O1UC|     794298839|doTERRA HD Clear ...|Personal_Care_App...|          4|            0|          1|   N|                Y|          Four Stars|It works better t...| 2015-08-31|\n",
            "|         US|    2592955|R2MN0QYCY6EVIV|B00HES9CMS|     318730927|Viva Naturals #1 ...|Personal_Care_App...|          5|            0|          0|   N|                Y|      not bad at all|I added to my oat...| 2015-08-31|\n",
            "|         US|   15168265|R3AN2UJ1D42ZS0|B0016BFR4G|     887476137|Uncle Lee's Organ...|Personal_Care_App...|          5|            0|          0|   N|                Y|Mild, enjoyable t...|Husband drinks th...| 2015-08-31|\n",
            "|         US|   13761624|R3U29ZLUWEEK4M|B00K504UUG|     458706868|Syrtenty Electrod...|Personal_Care_App...|          5|            0|          0|   N|                Y|          Five Stars|       Good quality.| 2015-08-31|\n",
            "|         US|   37070734|R16ZDMJJHK796C|B00HES9CMS|     318730927|Viva Naturals #1 ...|Personal_Care_App...|          5|            0|          0|   N|                N|        High Quality|This is high qual...| 2015-08-31|\n",
            "|         US|   29615023| RRRDOEJZD1Y22|B00P6TUO5G|     170248843|Viva Naturals Org...|Personal_Care_App...|          4|            0|          0|   N|                Y|          we like it|Buying more produ...| 2015-08-31|\n",
            "|         US|   47893062|R2KR5ZEAS859DK|B0006VJ6TO|     412568457|Body Back Company...|Personal_Care_App...|          5|            0|          0|   N|                Y|          Five Stars|    Their best cane.| 2015-08-31|\n",
            "|         US|    2582596| RR7PGQY763IHF|B00H9L7VIW|     851045898|boostULTIMATE - 6...|Personal_Care_App...|          5|            0|          0|   N|                Y|       Great product|Great product! Ma...| 2015-08-31|\n",
            "|         US|   21969415| RN37YYZBP9BMP|B00P1JNZUW|     274294586|doTERRA Veráge Sk...|Personal_Care_App...|          5|            4|          4|   N|                Y|Love the prouduct...|Love the prouduct...| 2015-08-31|\n",
            "|         US|   43153609| R1UXGB70OR5TW|B00N5HD340|     955577225|      Straight Razor|Personal_Care_App...|          5|            0|          0|   N|                Y|          Five Stars|          great buy.| 2015-08-31|\n",
            "|         US|   17782951|R1OC5ZNXSGO7P1|B0007DHMVK|      78719480|BONGER Massage To...|Personal_Care_App...|          5|            0|          0|   N|                Y|          Five stars|These are so much...| 2015-08-31|\n",
            "|         US|   13710264|R1W4ZN8BPVNWK3|B0002JG2NI|     900996767|Home Health Casto...|Personal_Care_App...|          5|            0|          0|   N|                Y|It works for home...|It works for home...| 2015-08-31|\n",
            "|         US|   30720884|R2KE33CNN5X2B0|B00OYRW4UE|     223980852|Elite Sportz Exer...|Personal_Care_App...|          5|            0|          0|   N|                Y|These work great ...|These work great ...| 2015-08-31|\n",
            "|         US|   35206254|R1A26EDSO0U5N6|B00598WT0C|     218203731|Aloha Eyewear “St...|Personal_Care_App...|          5|            0|          0|   N|                Y|             awesome|for anyone needin...| 2015-08-31|\n",
            "|         US|   10261156|R3L81GOHVS3E9P|B0006VJ6TO|     412568457|Body Back Company...|Personal_Care_App...|          5|            0|          0|   N|                Y| Deep tissue massage|This works perfec...| 2015-08-31|\n",
            "|         US|   50708344| RNFW9SWC5D0YF|B00J7G96NK|     256041044|Oral B Glide Flos...|Personal_Care_App...|          5|            2|          2|   N|                N|These are an esse...|Not only are thes...| 2015-08-31|\n",
            "+-----------+-----------+--------------+----------+--------------+--------------------+--------------------+-----------+-------------+-----------+----+-----------------+--------------------+--------------------+-----------+\n",
            "only showing top 20 rows\n",
            "\n"
          ],
          "name": "stdout"
        }
      ]
    },
    {
      "cell_type": "code",
      "metadata": {
        "colab": {
          "base_uri": "https://localhost:8080/"
        },
        "id": "nObx6ZPr3LUc",
        "outputId": "7b6cdb0c-f658-42c2-8656-450bd4d164e6"
      },
      "source": [
        "#filter DF for total_votes >= 20\n",
        "df = df.filter(df.total_votes >= 20)\n",
        "df.show(10)"
      ],
      "execution_count": 6,
      "outputs": [
        {
          "output_type": "stream",
          "text": [
            "+-----------+-----------+--------------+----------+--------------+--------------------+--------------------+-----------+-------------+-----------+----+-----------------+--------------------+--------------------+-----------+\n",
            "|marketplace|customer_id|     review_id|product_id|product_parent|       product_title|    product_category|star_rating|helpful_votes|total_votes|vine|verified_purchase|     review_headline|         review_body|review_date|\n",
            "+-----------+-----------+--------------+----------+--------------+--------------------+--------------------+-----------+-------------+-----------+----+-----------------+--------------------+--------------------+-----------+\n",
            "|         US|   26034089|R2PT2X8FMYFCV3|B00PV2QSLW|     991555077|Pride Mobility Go...|Personal_Care_App...|          5|           39|         41|   N|                Y|          Five Stars|Nice not too heav...| 2015-08-18|\n",
            "|         US|   19214268| RGCUQSH80SYY7|B00H8ZTLLY|     548146182|doTERRA On Guard ...|Personal_Care_App...|          1|           36|         47|   N|                N|These are natural...|After carrying th...| 2015-08-18|\n",
            "|         US|   42150992|R3E6EI073KP0AL|B00V2L5JRA|     417635592|Xtreme Comforts C...|Personal_Care_App...|          2|           21|         36|   N|                Y|Bad fit in a full...|I am 6'2&#34; tal...| 2015-08-18|\n",
            "|         US|   45452861|R3MYTXW7B4Z6YW|B0118Q011M|      68185001|URPOWER 2nd Gener...|Personal_Care_App...|          4|          687|        711|   N|                Y|Nice large volume...|Unlike most of th...| 2015-08-17|\n",
            "|         US|   52683195|R2WMF1IWN5ZYO4|B00H8ZTLLY|     548146182|doTERRA On Guard ...|Personal_Care_App...|          5|           18|         24|   N|                Y|Keeping you healt...|These are suppose...| 2015-08-12|\n",
            "|         US|   21846884| ROX6L7VJFS2P7|B0118Q011M|      68185001|URPOWER 2nd Gener...|Personal_Care_App...|          5|          339|        371|   N|                N|Powerful and Long...|[[VIDEOID:c484c8f...| 2015-08-09|\n",
            "|         US|    1843395| RRKAST7D4QTW8|B0006VJ6TO|     412568457|Body Back Company...|Personal_Care_App...|          1|           20|         27|   N|                N|           Defective|The knob that is ...| 2015-08-08|\n",
            "|         US|   28543917|R2QBKTWBDPL8BF|B0118Q011M|      68185001|URPOWER 2nd Gener...|Personal_Care_App...|          5|           65|         83|   N|                N|Highly recommend ...|Lately I am so st...| 2015-08-07|\n",
            "|         US|     823020|R3ULT9I0U79N8L|B00ZORXZC4|     997310024|Baetea Weight Los...|Personal_Care_App...|          5|           49|         57|   N|                N|I love the blend ...|I love the blend ...| 2015-08-05|\n",
            "|         US|    5234479|R20LABVEB8O83Q|B00V2L5JRA|     417635592|Xtreme Comforts C...|Personal_Care_App...|          3|           11|         23|   N|                Y|made real nice bu...|This product is m...| 2015-08-03|\n",
            "+-----------+-----------+--------------+----------+--------------+--------------------+--------------------+-----------+-------------+-----------+----+-----------------+--------------------+--------------------+-----------+\n",
            "only showing top 10 rows\n",
            "\n"
          ],
          "name": "stdout"
        }
      ]
    },
    {
      "cell_type": "code",
      "metadata": {
        "colab": {
          "base_uri": "https://localhost:8080/"
        },
        "id": "mLhal-aF3wcc",
        "outputId": "6b7c7d34-5e0e-4f9e-fd37-23fcba88fa00"
      },
      "source": [
        "#filter DF for helpful_votes ratio>= 50%\n",
        "df_helpful = df.filter((df.helpful_votes / df.total_votes) >= 0.5)\n",
        "df_helpful.show(10)\n",
        "\n"
      ],
      "execution_count": 7,
      "outputs": [
        {
          "output_type": "stream",
          "text": [
            "+-----------+-----------+--------------+----------+--------------+--------------------+--------------------+-----------+-------------+-----------+----+-----------------+--------------------+--------------------+-----------+\n",
            "|marketplace|customer_id|     review_id|product_id|product_parent|       product_title|    product_category|star_rating|helpful_votes|total_votes|vine|verified_purchase|     review_headline|         review_body|review_date|\n",
            "+-----------+-----------+--------------+----------+--------------+--------------------+--------------------+-----------+-------------+-----------+----+-----------------+--------------------+--------------------+-----------+\n",
            "|         US|   26034089|R2PT2X8FMYFCV3|B00PV2QSLW|     991555077|Pride Mobility Go...|Personal_Care_App...|          5|           39|         41|   N|                Y|          Five Stars|Nice not too heav...| 2015-08-18|\n",
            "|         US|   19214268| RGCUQSH80SYY7|B00H8ZTLLY|     548146182|doTERRA On Guard ...|Personal_Care_App...|          1|           36|         47|   N|                N|These are natural...|After carrying th...| 2015-08-18|\n",
            "|         US|   42150992|R3E6EI073KP0AL|B00V2L5JRA|     417635592|Xtreme Comforts C...|Personal_Care_App...|          2|           21|         36|   N|                Y|Bad fit in a full...|I am 6'2&#34; tal...| 2015-08-18|\n",
            "|         US|   45452861|R3MYTXW7B4Z6YW|B0118Q011M|      68185001|URPOWER 2nd Gener...|Personal_Care_App...|          4|          687|        711|   N|                Y|Nice large volume...|Unlike most of th...| 2015-08-17|\n",
            "|         US|   52683195|R2WMF1IWN5ZYO4|B00H8ZTLLY|     548146182|doTERRA On Guard ...|Personal_Care_App...|          5|           18|         24|   N|                Y|Keeping you healt...|These are suppose...| 2015-08-12|\n",
            "|         US|   21846884| ROX6L7VJFS2P7|B0118Q011M|      68185001|URPOWER 2nd Gener...|Personal_Care_App...|          5|          339|        371|   N|                N|Powerful and Long...|[[VIDEOID:c484c8f...| 2015-08-09|\n",
            "|         US|    1843395| RRKAST7D4QTW8|B0006VJ6TO|     412568457|Body Back Company...|Personal_Care_App...|          1|           20|         27|   N|                N|           Defective|The knob that is ...| 2015-08-08|\n",
            "|         US|   28543917|R2QBKTWBDPL8BF|B0118Q011M|      68185001|URPOWER 2nd Gener...|Personal_Care_App...|          5|           65|         83|   N|                N|Highly recommend ...|Lately I am so st...| 2015-08-07|\n",
            "|         US|     823020|R3ULT9I0U79N8L|B00ZORXZC4|     997310024|Baetea Weight Los...|Personal_Care_App...|          5|           49|         57|   N|                N|I love the blend ...|I love the blend ...| 2015-08-05|\n",
            "|         US|   30520248| RAC19YVDYSIKB|B011J79PNK|     524658987|iReliev TENS + EM...|Personal_Care_App...|          5|          161|        178|   N|                Y|Awesome experienc...|Just ordered it t...| 2015-08-01|\n",
            "+-----------+-----------+--------------+----------+--------------+--------------------+--------------------+-----------+-------------+-----------+----+-----------------+--------------------+--------------------+-----------+\n",
            "only showing top 10 rows\n",
            "\n"
          ],
          "name": "stdout"
        }
      ]
    },
    {
      "cell_type": "code",
      "metadata": {
        "colab": {
          "base_uri": "https://localhost:8080/"
        },
        "id": "i2dc-Wnb4M2x",
        "outputId": "f6c3c969-4d69-49b1-9e07-d7a744317ec8"
      },
      "source": [
        "#filter DF created in Step 2 and create new df that retrieves all the rows where a review was written as part of the Vine program (paid), vine == 'Y'.\n",
        "paid_df = df_helpful.filter(df_helpful.vine == 'Y')\n",
        "paid_df.show(10)"
      ],
      "execution_count": 8,
      "outputs": [
        {
          "output_type": "stream",
          "text": [
            "+-----------+-----------+--------------+----------+--------------+--------------------+--------------------+-----------+-------------+-----------+----+-----------------+--------------------+--------------------+-----------+\n",
            "|marketplace|customer_id|     review_id|product_id|product_parent|       product_title|    product_category|star_rating|helpful_votes|total_votes|vine|verified_purchase|     review_headline|         review_body|review_date|\n",
            "+-----------+-----------+--------------+----------+--------------+--------------------+--------------------+-----------+-------------+-----------+----+-----------------+--------------------+--------------------+-----------+\n",
            "|         US|   35353346|R3R2RHQWEKX5NL|B00DSICT1Y|     427004417|uComfy Shiatsu Fo...|Personal_Care_App...|          5|           81|         89|   Y|                N|You can hear your...|First off one bit...| 2014-01-13|\n",
            "|         US|   50929595|R1RZ4JZO8DAP7H|B00DSICT1Y|     427004417|uComfy Shiatsu Fo...|Personal_Care_App...|          3|          200|        227|   Y|                N|Good shiatsu and ...|[[VIDEOID:mo1RJDR...| 2014-01-12|\n",
            "|         US|   29142162| RQ94HI0WM8KIG|B00DSICT1Y|     427004417|uComfy Shiatsu Fo...|Personal_Care_App...|          5|          174|        188|   Y|                N|Great Massager - ...|Usually when I go...| 2014-01-08|\n",
            "+-----------+-----------+--------------+----------+--------------+--------------------+--------------------+-----------+-------------+-----------+----+-----------------+--------------------+--------------------+-----------+\n",
            "\n"
          ],
          "name": "stdout"
        }
      ]
    },
    {
      "cell_type": "code",
      "metadata": {
        "colab": {
          "base_uri": "https://localhost:8080/"
        },
        "id": "tN3oHm8v45AY",
        "outputId": "5bf0893a-46d5-4adb-f32c-3c983476b52d"
      },
      "source": [
        "#filter DF created in Step 2 and create new df that retrieves all the rows where a review was written as part of the Vine program (paid), vine == 'N'.\n",
        "unpaid_df = df_helpful.filter(df_helpful.vine == 'N')\n",
        "unpaid_df.show(10)\n"
      ],
      "execution_count": 9,
      "outputs": [
        {
          "output_type": "stream",
          "text": [
            "+-----------+-----------+--------------+----------+--------------+--------------------+--------------------+-----------+-------------+-----------+----+-----------------+--------------------+--------------------+-----------+\n",
            "|marketplace|customer_id|     review_id|product_id|product_parent|       product_title|    product_category|star_rating|helpful_votes|total_votes|vine|verified_purchase|     review_headline|         review_body|review_date|\n",
            "+-----------+-----------+--------------+----------+--------------+--------------------+--------------------+-----------+-------------+-----------+----+-----------------+--------------------+--------------------+-----------+\n",
            "|         US|   26034089|R2PT2X8FMYFCV3|B00PV2QSLW|     991555077|Pride Mobility Go...|Personal_Care_App...|          5|           39|         41|   N|                Y|          Five Stars|Nice not too heav...| 2015-08-18|\n",
            "|         US|   19214268| RGCUQSH80SYY7|B00H8ZTLLY|     548146182|doTERRA On Guard ...|Personal_Care_App...|          1|           36|         47|   N|                N|These are natural...|After carrying th...| 2015-08-18|\n",
            "|         US|   42150992|R3E6EI073KP0AL|B00V2L5JRA|     417635592|Xtreme Comforts C...|Personal_Care_App...|          2|           21|         36|   N|                Y|Bad fit in a full...|I am 6'2&#34; tal...| 2015-08-18|\n",
            "|         US|   45452861|R3MYTXW7B4Z6YW|B0118Q011M|      68185001|URPOWER 2nd Gener...|Personal_Care_App...|          4|          687|        711|   N|                Y|Nice large volume...|Unlike most of th...| 2015-08-17|\n",
            "|         US|   52683195|R2WMF1IWN5ZYO4|B00H8ZTLLY|     548146182|doTERRA On Guard ...|Personal_Care_App...|          5|           18|         24|   N|                Y|Keeping you healt...|These are suppose...| 2015-08-12|\n",
            "|         US|   21846884| ROX6L7VJFS2P7|B0118Q011M|      68185001|URPOWER 2nd Gener...|Personal_Care_App...|          5|          339|        371|   N|                N|Powerful and Long...|[[VIDEOID:c484c8f...| 2015-08-09|\n",
            "|         US|    1843395| RRKAST7D4QTW8|B0006VJ6TO|     412568457|Body Back Company...|Personal_Care_App...|          1|           20|         27|   N|                N|           Defective|The knob that is ...| 2015-08-08|\n",
            "|         US|   28543917|R2QBKTWBDPL8BF|B0118Q011M|      68185001|URPOWER 2nd Gener...|Personal_Care_App...|          5|           65|         83|   N|                N|Highly recommend ...|Lately I am so st...| 2015-08-07|\n",
            "|         US|     823020|R3ULT9I0U79N8L|B00ZORXZC4|     997310024|Baetea Weight Los...|Personal_Care_App...|          5|           49|         57|   N|                N|I love the blend ...|I love the blend ...| 2015-08-05|\n",
            "|         US|   30520248| RAC19YVDYSIKB|B011J79PNK|     524658987|iReliev TENS + EM...|Personal_Care_App...|          5|          161|        178|   N|                Y|Awesome experienc...|Just ordered it t...| 2015-08-01|\n",
            "+-----------+-----------+--------------+----------+--------------+--------------------+--------------------+-----------+-------------+-----------+----+-----------------+--------------------+--------------------+-----------+\n",
            "only showing top 10 rows\n",
            "\n"
          ],
          "name": "stdout"
        }
      ]
    },
    {
      "cell_type": "code",
      "metadata": {
        "colab": {
          "base_uri": "https://localhost:8080/"
        },
        "id": "DZIrfQra6fXw",
        "outputId": "394fdaf1-2f9d-4367-92c0-a13c575751cf"
      },
      "source": [
        "#determine the total number of reviews -PAID\n",
        "total_reviews_paid = paid_df.count()\n",
        "total_reviews_paid"
      ],
      "execution_count": 11,
      "outputs": [
        {
          "output_type": "execute_result",
          "data": {
            "text/plain": [
              "3"
            ]
          },
          "metadata": {},
          "execution_count": 11
        }
      ]
    },
    {
      "cell_type": "code",
      "metadata": {
        "colab": {
          "base_uri": "https://localhost:8080/"
        },
        "id": "rERCuyrU5nuF",
        "outputId": "353601c5-4834-49b3-93d8-3a1ac4958135"
      },
      "source": [
        "#determine the number of 5-star reviews - PAID\n",
        "five_star_reviews_paid = paid_df.filter(paid_df.star_rating == 5).count()\n",
        "five_star_reviews_paid"
      ],
      "execution_count": 12,
      "outputs": [
        {
          "output_type": "execute_result",
          "data": {
            "text/plain": [
              "2"
            ]
          },
          "metadata": {},
          "execution_count": 12
        }
      ]
    },
    {
      "cell_type": "code",
      "metadata": {
        "colab": {
          "base_uri": "https://localhost:8080/"
        },
        "id": "BabYzEwK5r_E",
        "outputId": "d9ea29ea-a068-4f99-b256-ed780461fa45"
      },
      "source": [
        "#determine the percentage of 5-star reviews - PAID\n",
        "five_star_percent_paid = (five_star_reviews_paid / total_reviews_paid) * 100\n",
        "five_star_percent_paid"
      ],
      "execution_count": 14,
      "outputs": [
        {
          "output_type": "execute_result",
          "data": {
            "text/plain": [
              "66.66666666666666"
            ]
          },
          "metadata": {},
          "execution_count": 14
        }
      ]
    },
    {
      "cell_type": "code",
      "metadata": {
        "colab": {
          "base_uri": "https://localhost:8080/"
        },
        "id": "8q5f4myz5sPj",
        "outputId": "509be15f-f5f8-4a96-b168-cb2c48f75558"
      },
      "source": [
        "#determine the total number of reviews -UNPAID\n",
        "total_reviews_unpaid = unpaid_df.count()\n",
        "total_reviews_unpaid"
      ],
      "execution_count": 15,
      "outputs": [
        {
          "output_type": "execute_result",
          "data": {
            "text/plain": [
              "3094"
            ]
          },
          "metadata": {},
          "execution_count": 15
        }
      ]
    },
    {
      "cell_type": "code",
      "metadata": {
        "colab": {
          "base_uri": "https://localhost:8080/"
        },
        "id": "OaC9WRSJ5scL",
        "outputId": "48c2ab32-cb8e-40ca-d0af-dcdb6d26865b"
      },
      "source": [
        "#determine the number of 5-star reviews - UNPAID\n",
        "five_star_reviews_unpaid = unpaid_df.filter(unpaid_df.star_rating == 5).count()\n",
        "five_star_reviews_unpaid"
      ],
      "execution_count": 16,
      "outputs": [
        {
          "output_type": "execute_result",
          "data": {
            "text/plain": [
              "1704"
            ]
          },
          "metadata": {},
          "execution_count": 16
        }
      ]
    },
    {
      "cell_type": "code",
      "metadata": {
        "colab": {
          "base_uri": "https://localhost:8080/"
        },
        "id": "JUU63w3c7CWP",
        "outputId": "0acb1f40-32cc-4ded-ff9b-3b7772260318"
      },
      "source": [
        "#determine the percentage of 5-star reviews - UNPAID\n",
        "five_star_percent_unpaid = (five_star_reviews_unpaid / total_reviews_unpaid) * 100\n",
        "five_star_percent_unpaid"
      ],
      "execution_count": 18,
      "outputs": [
        {
          "output_type": "execute_result",
          "data": {
            "text/plain": [
              "55.07433742727861"
            ]
          },
          "metadata": {},
          "execution_count": 18
        }
      ]
    }
  ]
}